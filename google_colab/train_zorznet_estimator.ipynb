{
  "nbformat": 4,
  "nbformat_minor": 0,
  "metadata": {
    "colab": {
      "name": "train_zorznet_estimator.ipynb",
      "provenance": [],
      "collapsed_sections": []
    },
    "kernelspec": {
      "name": "python3",
      "display_name": "Python 3"
    },
    "accelerator": "GPU"
  },
  "cells": [
    {
      "cell_type": "markdown",
      "metadata": {
        "id": "Gp-sxdH_WdVL",
        "colab_type": "text"
      },
      "source": [
        "# Ejecución de la red CTC (Connectionist Temporal Classification)"
      ]
    },
    {
      "cell_type": "markdown",
      "metadata": {
        "id": "GzEP645TUAKd",
        "colab_type": "text"
      },
      "source": [
        "## Preparación"
      ]
    },
    {
      "cell_type": "markdown",
      "metadata": {
        "id": "uiHlKPOlZHCS",
        "colab_type": "text"
      },
      "source": [
        "\n",
        "\n",
        "### Instalación de paquetes necesarios\n",
        "\n",
        "\n",
        "\n",
        "\n",
        "\n"
      ]
    },
    {
      "cell_type": "code",
      "metadata": {
        "id": "PtkPd7YoWZLl",
        "colab_type": "code",
        "colab": {}
      },
      "source": [
        "!pip3 install python_speech_features"
      ],
      "execution_count": 0,
      "outputs": []
    },
    {
      "cell_type": "markdown",
      "metadata": {
        "id": "Kn5bgHjdWxSM",
        "colab_type": "text"
      },
      "source": [
        "### Importación del contenido del drive y configuración de la ruta de ejecución del código"
      ]
    },
    {
      "cell_type": "code",
      "metadata": {
        "id": "yOE4tgZsW1et",
        "colab_type": "code",
        "colab": {}
      },
      "source": [
        "from google.colab import drive\n",
        "drive.mount('/content/drive/', force_remount=True)\n",
        "\n",
        "import sys\n",
        "sys.path.append('drive/My Drive/Tesis/repo')\n",
        "\n",
        "from tensorflow.python.client import device_lib\n",
        "device_lib.list_local_devices()"
      ],
      "execution_count": 0,
      "outputs": []
    },
    {
      "cell_type": "markdown",
      "metadata": {
        "id": "tT7J-UOXUUUI",
        "colab_type": "text"
      },
      "source": [
        "### Especificaciones de la GPU utilizada"
      ]
    },
    {
      "cell_type": "code",
      "metadata": {
        "id": "ylQSGmJRUb5l",
        "colab_type": "code",
        "colab": {}
      },
      "source": [
        "!nvidia-smi"
      ],
      "execution_count": 0,
      "outputs": []
    },
    {
      "cell_type": "markdown",
      "metadata": {
        "id": "mexH7HczUiB-",
        "colab_type": "text"
      },
      "source": [
        "## Configuración del modelo"
      ]
    },
    {
      "cell_type": "markdown",
      "metadata": {
        "id": "eh1DAAWCXygf",
        "colab_type": "text"
      },
      "source": [
        "### Importación de librerías necesarias"
      ]
    },
    {
      "cell_type": "code",
      "metadata": {
        "id": "itKOqreUX1gK",
        "colab_type": "code",
        "colab": {}
      },
      "source": [
        "import tensorflow as tf\n",
        "from src.neural_network.ZorzNet.ZorzNetData import ZorzNetData\n",
        "from src.utils.Database import Database\n",
        "from src.utils.ClassicLabel import ClassicLabel\n",
        "from src.utils.ProjectData import ProjectData\n",
        "import time\n",
        "from src.neural_network.ZorzNet.ZorzNetData import ZorzNetData"
      ],
      "execution_count": 0,
      "outputs": []
    },
    {
      "cell_type": "markdown",
      "metadata": {
        "id": "DOsiAujBU0RV",
        "colab_type": "text"
      },
      "source": [
        "### Importación de las funciones que definen cómo leer el dataset y la función que define el modelo de red"
      ]
    },
    {
      "cell_type": "code",
      "metadata": {
        "id": "GKeE6eG4U4K2",
        "colab_type": "code",
        "colab": {}
      },
      "source": [
        "from src.Estimators.zorznet.data_input_fn import data_input_fn\n",
        "from src.Estimators.zorznet.model_fn import model_fn"
      ],
      "execution_count": 0,
      "outputs": []
    },
    {
      "cell_type": "markdown",
      "metadata": {
        "id": "K73_jDd7X_CO",
        "colab_type": "text"
      },
      "source": [
        "### Definición de los hiperparámetros de la red\n",
        "\n"
      ]
    },
    {
      "cell_type": "code",
      "metadata": {
        "id": "ROoJRMZwX-at",
        "colab_type": "code",
        "colab": {}
      },
      "source": [
        "project_data = ProjectData()\n",
        "\n",
        "network_data = ZorzNetData()\n",
        "network_data.model_path = 'drive/My Drive/Tesis/repo/' + project_data.ZORZNET_MODEL_PATH\n",
        "network_data.checkpoint_path = 'drive/My Drive/Tesis/repo/' + project_data.ZORZNET_CHECKPOINT_PATH\n",
        "network_data.tensorboard_path = 'drive/My Drive/Tesis/repo/' + project_data.ZORZNET_TENSORBOARD_PATH\n",
        "\n",
        "network_data.num_classes = ClassicLabel.num_classes - 1\n",
        "network_data.num_features = 494\n",
        "network_data.noise_stddev = 0.1\n",
        "network_data.num_reduce_by_half = 0\n",
        "\n",
        "network_data.num_dense_layers_1 = 1\n",
        "network_data.num_units_1 = [400] * network_data.num_dense_layers_1\n",
        "network_data.dense_activations_1 = [tf.nn.relu] * network_data.num_dense_layers_1\n",
        "network_data.batch_normalization_1 = True\n",
        "network_data.batch_normalization_trainable_1 = True\n",
        "network_data.keep_prob_1 = [0.6] * network_data.num_dense_layers_1\n",
        "network_data.kernel_init_1 = [tf.truncated_normal_initializer(mean=0, stddev=0.1)] * network_data.num_dense_layers_1\n",
        "network_data.bias_init_1 = [tf.zeros_initializer()] * network_data.num_dense_layers_1\n",
        "\n",
        "network_data.is_bidirectional = True\n",
        "network_data.num_cell_units = [512] * 2\n",
        "network_data.cell_activation = [tf.nn.tanh] * 2\n",
        "network_data.keep_prob_rnn = None\n",
        "network_data.rnn_batch_normalization = False\n",
        "\n",
        "network_data.num_dense_layers_2 = 1\n",
        "network_data.num_units_2 = [150]\n",
        "network_data.dense_activations_2 = [tf.nn.relu] * network_data.num_dense_layers_2\n",
        "network_data.batch_normalization_2 = True\n",
        "network_data.batch_normalization_trainable_2 = True\n",
        "network_data.keep_prob_2 = [0.6]\n",
        "network_data.kernel_init_2 = [tf.truncated_normal_initializer(mean=0, stddev=0.1)] * network_data.num_dense_layers_2\n",
        "network_data.bias_init_2 = [tf.zeros_initializer()] * network_data.num_dense_layers_2\n",
        "\n",
        "network_data.dense_regularizer = 0.5\n",
        "network_data.rnn_regularizer = 0.0\n",
        "\n",
        "network_data.beam_width = 0    # 0 -> greedy_decoder, >0 -> beam_search\n",
        "\n",
        "network_data.learning_rate = 0.001\n",
        "network_data.use_learning_rate_decay = True\n",
        "network_data.learning_rate_decay_steps = 5000\n",
        "network_data.learning_rate_decay = 0.98\n",
        "\n",
        "network_data.clip_gradient = 5\n",
        "network_data.optimizer = 'adam'      # 'rms', 'adam', 'momentum', 'sgd'\n",
        "network_data.momentum = None"
      ],
      "execution_count": 0,
      "outputs": []
    },
    {
      "cell_type": "markdown",
      "metadata": {
        "id": "Hi_FGeToYX5k",
        "colab_type": "text"
      },
      "source": [
        "### Configuración de entrenamiento"
      ]
    },
    {
      "cell_type": "code",
      "metadata": {
        "id": "VnVktYkdYct3",
        "colab_type": "code",
        "colab": {}
      },
      "source": [
        "model_dir = 'drive/My Drive/Tesis/repo/out/zorznet/estimator/'\n",
        "\n",
        "base_path = 'drive/My Drive/classic/'\n",
        "base_path2 = 'drive/My Drive/classic2/'\n",
        "\n",
        "from random import shuffle\n",
        "index_files = [i for i in range(1,51,1)]\n",
        "index_files2 = [i for i in range(51,93,1)]\n",
        "\n",
        "train_files = ['train_database_{}.tfrecords'.format(item) for item in index_files]\n",
        "train_files2 = ['train_database_{}.tfrecords'.format(item) for item in index_files2]\n",
        "\n",
        "train_files = list(map(lambda x: base_path + x, train_files))\n",
        "train_files2 = list(map(lambda x: base_path2 + x, train_files2))\n",
        "train_files = train_files + train_files2\n",
        "\n",
        "shuffle(train_files)\n",
        "print(train_files)\n",
        "\n",
        "val_files = ['test_database_1.tfrecords', 'test_database_2.tfrecords']\n",
        "test_files = ['test_database_1.tfrecords']\n",
        "\n",
        "val_files = list(map(lambda x: base_path + x, val_files))\n",
        "test_files = list(map(lambda x: base_path + x, test_files))\n",
        "\n",
        "train_batch_size = 40\n",
        "train_epochs = 1000\n",
        "\n",
        "validate_batch_size = 40\n",
        "               \n",
        "\n",
        "config = tf.estimator.RunConfig(\n",
        "    model_dir=model_dir,\n",
        "    save_checkpoints_steps=50,\n",
        "    save_summary_steps=50,\n",
        "    log_step_count_steps=50)\n",
        "\n",
        "\n",
        "model = tf.estimator.Estimator(\n",
        "    model_fn=model_fn,\n",
        "    params=network_data.as_dict(),\n",
        "    config=config\n",
        ")\n",
        "\n",
        "tf.logging.set_verbosity(tf.logging.INFO)"
      ],
      "execution_count": 0,
      "outputs": []
    },
    {
      "cell_type": "markdown",
      "metadata": {
        "id": "eeo7ijNFZcdx",
        "colab_type": "text"
      },
      "source": [
        "## Ejecución de la red"
      ]
    },
    {
      "cell_type": "markdown",
      "metadata": {
        "id": "Q28RImgUvX60",
        "colab_type": "text"
      },
      "source": [
        "### Entrenamiento"
      ]
    },
    {
      "cell_type": "code",
      "metadata": {
        "id": "rYcvBQsDZe-G",
        "colab_type": "code",
        "colab": {}
      },
      "source": [
        "model.train(\n",
        "    input_fn=lambda: data_input_fn(\n",
        "        filenames=train_files,\n",
        "        batch_size=train_batch_size,\n",
        "        parse_fn=Database.tfrecord_parse_dense_fn,\n",
        "        shuffle_buffer=10,\n",
        "        num_features=network_data.num_features,\n",
        "        num_epochs=train_epochs)\n",
        ")"
      ],
      "execution_count": 0,
      "outputs": []
    },
    {
      "cell_type": "markdown",
      "metadata": {
        "id": "fD4HmsIPvaLy",
        "colab_type": "text"
      },
      "source": [
        "\n",
        "### Validación\n"
      ]
    },
    {
      "cell_type": "code",
      "metadata": {
        "id": "SyGxknhxvTJ9",
        "colab_type": "code",
        "colab": {}
      },
      "source": [
        "model.evaluate(\n",
        "    input_fn=lambda: data_input_fn(\n",
        "        filenames=val_files,\n",
        "        batch_size=validate_batch_size,\n",
        "        parse_fn=Database.tfrecord_parse_dense_fn,\n",
        "        shuffle_buffer=1,\n",
        "        num_features=network_data.num_features)\n",
        ")"
      ],
      "execution_count": 0,
      "outputs": []
    },
    {
      "cell_type": "markdown",
      "metadata": {
        "id": "ebK_VwGpvkaG",
        "colab_type": "text"
      },
      "source": [
        "### Testeo"
      ]
    },
    {
      "cell_type": "code",
      "metadata": {
        "id": "BcTE4yNhjtz9",
        "colab_type": "code",
        "colab": {}
      },
      "source": [
        "num_tests = 5\n",
        "\n",
        "predictions = model.predict(\n",
        "    input_fn=lambda: data_input_fn(\n",
        "        filenames=test_files,\n",
        "        batch_size=1,\n",
        "        parse_fn=Database.tfrecord_parse_dense_fn,\n",
        "        shuffle_buffer=1,\n",
        "        num_features=network_data.num_features)\n",
        ")\n",
        "\n",
        "for item in predictions:\n",
        "  print(\"Predicted: \" + ClassicLabel.from_index(item))\n",
        "  num_tests -= 1\n",
        "  if num_tests == 0:\n",
        "    break"
      ],
      "execution_count": 0,
      "outputs": []
    }
  ]
}